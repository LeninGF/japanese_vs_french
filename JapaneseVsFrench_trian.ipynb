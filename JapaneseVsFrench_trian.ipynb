{
  "nbformat": 4,
  "nbformat_minor": 0,
  "metadata": {
    "colab": {
      "name": "JapaneseVsFrench_trian.ipynb",
      "provenance": [],
      "toc_visible": true,
      "authorship_tag": "ABX9TyOPDbuc72GB8qALyvG1AxUq",
      "include_colab_link": true
    },
    "kernelspec": {
      "name": "python3",
      "display_name": "Python 3"
    },
    "accelerator": "GPU"
  },
  "cells": [
    {
      "cell_type": "markdown",
      "metadata": {
        "id": "view-in-github",
        "colab_type": "text"
      },
      "source": [
        "<a href=\"https://colab.research.google.com/github/LeninGF/japanese_vs_french/blob/master/JapaneseVsFrench_trian.ipynb\" target=\"_parent\"><img src=\"https://colab.research.google.com/assets/colab-badge.svg\" alt=\"Open In Colab\"/></a>"
      ]
    },
    {
      "cell_type": "code",
      "metadata": {
        "id": "MynTeODED3RZ",
        "colab_type": "code",
        "colab": {}
      },
      "source": [
        "import numpy as np\n",
        "import pandas as pd\n",
        "train = np.genfromtxt('training.csv', delimiter=',')\n",
        "test = np.genfromtxt('testing.csv', delimiter=',')"
      ],
      "execution_count": 0,
      "outputs": []
    },
    {
      "cell_type": "code",
      "metadata": {
        "id": "uztJG0JyF-vy",
        "colab_type": "code",
        "outputId": "9921d615-8b42-418b-cd00-460e62d798f5",
        "colab": {
          "base_uri": "https://localhost:8080/",
          "height": 68
        }
      },
      "source": [
        "total_train_samples, _ = np.shape(train)\n",
        "total_test_samples, _ = np.shape(test)\n",
        "total = total_train_samples+total_test_samples\n",
        "print('total {}'.format(total))\n",
        "print('% train is: {}'.format(total_train_samples/total))\n",
        "print('% test is: {}'.format(total_test_samples/total))"
      ],
      "execution_count": 4,
      "outputs": [
        {
          "output_type": "stream",
          "text": [
            "total 102996\n",
            "% train is: 0.6999883490620995\n",
            "% test is: 0.3000116509379005\n"
          ],
          "name": "stdout"
        }
      ]
    },
    {
      "cell_type": "code",
      "metadata": {
        "id": "OXWddnD9HWWL",
        "colab_type": "code",
        "outputId": "914979ca-218d-42ce-f24e-ce2b153f012b",
        "colab": {
          "base_uri": "https://localhost:8080/",
          "height": 51
        }
      },
      "source": [
        "x_train = train[:,:-1]\n",
        "y_train = train[:,-1]\n",
        "x_test = test[:,:-1]\n",
        "y_test = test[:,-1]\n",
        "print(np.shape(x_train))\n",
        "print(np.shape(y_train))"
      ],
      "execution_count": 5,
      "outputs": [
        {
          "output_type": "stream",
          "text": [
            "(72096, 144)\n",
            "(72096,)\n"
          ],
          "name": "stdout"
        }
      ]
    },
    {
      "cell_type": "code",
      "metadata": {
        "id": "UWhhprahItgc",
        "colab_type": "code",
        "colab": {}
      },
      "source": [
        "from sklearn.preprocessing import MinMaxScaler\n",
        "sc = MinMaxScaler(feature_range=(0, 1))\n",
        "x_train_sc = sc.fit_transform(x_train)\n",
        "x_test_sc = sc.fit_transform(x_test)"
      ],
      "execution_count": 0,
      "outputs": []
    },
    {
      "cell_type": "code",
      "metadata": {
        "id": "1UQZiKiLLJYB",
        "colab_type": "code",
        "colab": {}
      },
      "source": [
        "from sklearn.utils import shuffle\n",
        "x_train_sh, y_train_sh = shuffle(x_train_sc, y_train, random_state=0)"
      ],
      "execution_count": 0,
      "outputs": []
    },
    {
      "cell_type": "code",
      "metadata": {
        "id": "1pdY-MPwNs7L",
        "colab_type": "code",
        "outputId": "dce17c53-7fd2-4655-db2f-219fc175acf5",
        "colab": {
          "base_uri": "https://localhost:8080/",
          "height": 34
        }
      },
      "source": [
        "x_train.shape[1]"
      ],
      "execution_count": 8,
      "outputs": [
        {
          "output_type": "execute_result",
          "data": {
            "text/plain": [
              "144"
            ]
          },
          "metadata": {
            "tags": []
          },
          "execution_count": 8
        }
      ]
    },
    {
      "cell_type": "code",
      "metadata": {
        "id": "XNHVSD_wMtmf",
        "colab_type": "code",
        "colab": {
          "base_uri": "https://localhost:8080/",
          "height": 185
        },
        "outputId": "5e798235-5d57-4504-8071-0eb82a04bcf1"
      },
      "source": [
        "from tensorflow.keras.models import Sequential\n",
        "from tensorflow.keras.layers import Dense, LSTM, Dropout\n",
        "number_of_features = x_train.shape[1]\n",
        "model = Sequential()\n",
        "model.add(Dense(10, input_dim=number_of_features, activation='relu'))\n",
        "# model.add(Dense(50, activation='relu'))\n",
        "model.add(Dropout(0.2))\n",
        "model.add(Dense(1, activation='sigmoid'))\n",
        "model.compile(loss='binary_crossentropy', optimizer='adam', metrics=['accuracy'])\n"
      ],
      "execution_count": 9,
      "outputs": [
        {
          "output_type": "display_data",
          "data": {
            "text/html": [
              "<p style=\"color: red;\">\n",
              "The default version of TensorFlow in Colab will soon switch to TensorFlow 2.x.<br>\n",
              "We recommend you <a href=\"https://www.tensorflow.org/guide/migrate\" target=\"_blank\">upgrade</a> now \n",
              "or ensure your notebook will continue to use TensorFlow 1.x via the <code>%tensorflow_version 1.x</code> magic:\n",
              "<a href=\"https://colab.research.google.com/notebooks/tensorflow_version.ipynb\" target=\"_blank\">more info</a>.</p>\n"
            ],
            "text/plain": [
              "<IPython.core.display.HTML object>"
            ]
          },
          "metadata": {
            "tags": []
          }
        },
        {
          "output_type": "stream",
          "text": [
            "WARNING:tensorflow:From /usr/local/lib/python3.6/dist-packages/tensorflow_core/python/ops/resource_variable_ops.py:1630: calling BaseResourceVariable.__init__ (from tensorflow.python.ops.resource_variable_ops) with constraint is deprecated and will be removed in a future version.\n",
            "Instructions for updating:\n",
            "If using Keras pass *_constraint arguments to layers.\n",
            "WARNING:tensorflow:From /usr/local/lib/python3.6/dist-packages/tensorflow_core/python/ops/nn_impl.py:183: where (from tensorflow.python.ops.array_ops) is deprecated and will be removed in a future version.\n",
            "Instructions for updating:\n",
            "Use tf.where in 2.0, which has the same broadcast rule as np.where\n"
          ],
          "name": "stdout"
        }
      ]
    },
    {
      "cell_type": "code",
      "metadata": {
        "id": "Z2fUeQenU5Ty",
        "colab_type": "code",
        "outputId": "c4f959fc-a947-480d-984a-e5606e2324cb",
        "colab": {
          "base_uri": "https://localhost:8080/",
          "height": 255
        }
      },
      "source": [
        "model.summary()"
      ],
      "execution_count": 10,
      "outputs": [
        {
          "output_type": "stream",
          "text": [
            "Model: \"sequential\"\n",
            "_________________________________________________________________\n",
            "Layer (type)                 Output Shape              Param #   \n",
            "=================================================================\n",
            "dense (Dense)                (None, 10)                1450      \n",
            "_________________________________________________________________\n",
            "dropout (Dropout)            (None, 10)                0         \n",
            "_________________________________________________________________\n",
            "dense_1 (Dense)              (None, 1)                 11        \n",
            "=================================================================\n",
            "Total params: 1,461\n",
            "Trainable params: 1,461\n",
            "Non-trainable params: 0\n",
            "_________________________________________________________________\n"
          ],
          "name": "stdout"
        }
      ]
    },
    {
      "cell_type": "code",
      "metadata": {
        "id": "y5wNo2MaO1ck",
        "colab_type": "code",
        "outputId": "64bc3aab-c20c-4ebd-e605-0bb6dbf8dc4a",
        "colab": {
          "base_uri": "https://localhost:8080/",
          "height": 374
        }
      },
      "source": [
        "history = model.fit(x_train_sh, y_train_sh, epochs=10, batch_size=10, verbose=1)"
      ],
      "execution_count": 11,
      "outputs": [
        {
          "output_type": "stream",
          "text": [
            "Train on 72096 samples\n",
            "Epoch 1/10\n",
            "72096/72096 [==============================] - 21s 285us/sample - loss: 0.0469 - acc: 0.9888\n",
            "Epoch 2/10\n",
            "72096/72096 [==============================] - 19s 270us/sample - loss: 0.0214 - acc: 0.9959\n",
            "Epoch 3/10\n",
            "72096/72096 [==============================] - 19s 258us/sample - loss: 0.0164 - acc: 0.9960\n",
            "Epoch 4/10\n",
            "72096/72096 [==============================] - 19s 260us/sample - loss: 0.0142 - acc: 0.9964\n",
            "Epoch 5/10\n",
            "72096/72096 [==============================] - 18s 255us/sample - loss: 0.0141 - acc: 0.9965\n",
            "Epoch 6/10\n",
            "72096/72096 [==============================] - 18s 254us/sample - loss: 0.0129 - acc: 0.9969\n",
            "Epoch 7/10\n",
            "72096/72096 [==============================] - 19s 259us/sample - loss: 0.0122 - acc: 0.9970\n",
            "Epoch 8/10\n",
            "72096/72096 [==============================] - 18s 255us/sample - loss: 0.0111 - acc: 0.9974\n",
            "Epoch 9/10\n",
            "72096/72096 [==============================] - 18s 248us/sample - loss: 0.0107 - acc: 0.9974\n",
            "Epoch 10/10\n",
            "72096/72096 [==============================] - 18s 256us/sample - loss: 0.0110 - acc: 0.9973\n"
          ],
          "name": "stdout"
        }
      ]
    },
    {
      "cell_type": "code",
      "metadata": {
        "id": "Drin5QjGG6Yp",
        "colab_type": "code",
        "colab": {}
      },
      "source": [
        "model.save('model_fr_jp.h5')"
      ],
      "execution_count": 0,
      "outputs": []
    },
    {
      "cell_type": "code",
      "metadata": {
        "id": "JKopg0itSvNt",
        "colab_type": "code",
        "outputId": "705c2fde-10a8-41ed-e771-df0dd49038eb",
        "colab": {
          "base_uri": "https://localhost:8080/",
          "height": 516
        }
      },
      "source": [
        "import matplotlib.pyplot as plt\n",
        "acc = history.history['acc']\n",
        "loss = history.history['loss']\n",
        "plt.figure(figsize=(8, 8))\n",
        "plt.plot(acc, label='Training Accuracy')\n",
        "plt.legend(loc='lower right')\n",
        "plt.ylabel('Accuracy')\n",
        "plt.ylim([min(plt.ylim()), 1])\n",
        "plt.title('Training Accuracy')\n"
      ],
      "execution_count": 13,
      "outputs": [
        {
          "output_type": "execute_result",
          "data": {
            "text/plain": [
              "Text(0.5, 1.0, 'Training Accuracy')"
            ]
          },
          "metadata": {
            "tags": []
          },
          "execution_count": 13
        },
        {
          "output_type": "display_data",
          "data": {
            "image/png": "[encoded data removed]",
            "text/plain": [
              "<Figure size 576x576 with 1 Axes>"
            ]
          },
          "metadata": {
            "tags": []
          }
        }
      ]
    },
    {
      "cell_type": "code",
      "metadata": {
        "id": "Ktc8Qz-ZT4a3",
        "colab_type": "code",
        "outputId": "9b64b503-a846-4a09-83c1-c98c659548fa",
        "colab": {
          "base_uri": "https://localhost:8080/",
          "height": 516
        }
      },
      "source": [
        "plt.figure(figsize=(8, 8))\n",
        "plt.plot(loss, label='Training Loss')\n",
        "plt.legend(loc='upper right')\n",
        "plt.ylabel('Cross Entropy')\n",
        "plt.ylim([0, max(plt.ylim())])\n",
        "plt.title('Training Loss')"
      ],
      "execution_count": 14,
      "outputs": [
        {
          "output_type": "execute_result",
          "data": {
            "text/plain": [
              "Text(0.5, 1.0, 'Training Loss')"
            ]
          },
          "metadata": {
            "tags": []
          },
          "execution_count": 14
        },
        {
          "output_type": "display_data",
          "data": {
            "image/png": "[encoded data removed]",
            "text/plain": [
              "<Figure size 576x576 with 1 Axes>"
            ]
          },
          "metadata": {
            "tags": []
          }
        }
      ]
    },
    {
      "cell_type": "markdown",
      "metadata": {
        "id": "AO4GcqlSV24r",
        "colab_type": "text"
      },
      "source": [
        "## Testeo del Modelo\n",
        "1. Cargar el model h5\n",
        "2. evaluar el modelo h5 sobre el **x_test**"
      ]
    },
    {
      "cell_type": "code",
      "metadata": {
        "id": "3h7H_8o0aFo6",
        "colab_type": "code",
        "outputId": "6cef8168-923e-4fe3-f32a-645a7bd6febe",
        "colab": {
          "base_uri": "https://localhost:8080/",
          "height": 377
        }
      },
      "source": [
        "from tensorflow.keras.models import load_model\n",
        "model2 = load_model('model_fr_jp.h5')\n",
        "model2.summary()"
      ],
      "execution_count": 15,
      "outputs": [
        {
          "output_type": "stream",
          "text": [
            "WARNING:tensorflow:From /usr/local/lib/python3.6/dist-packages/tensorflow_core/python/ops/init_ops.py:97: calling GlorotUniform.__init__ (from tensorflow.python.ops.init_ops) with dtype is deprecated and will be removed in a future version.\n",
            "Instructions for updating:\n",
            "Call initializer instance with the dtype argument instead of passing it to the constructor\n",
            "WARNING:tensorflow:From /usr/local/lib/python3.6/dist-packages/tensorflow_core/python/ops/init_ops.py:97: calling Zeros.__init__ (from tensorflow.python.ops.init_ops) with dtype is deprecated and will be removed in a future version.\n",
            "Instructions for updating:\n",
            "Call initializer instance with the dtype argument instead of passing it to the constructor\n",
            "Model: \"sequential\"\n",
            "_________________________________________________________________\n",
            "Layer (type)                 Output Shape              Param #   \n",
            "=================================================================\n",
            "dense (Dense)                (None, 10)                1450      \n",
            "_________________________________________________________________\n",
            "dropout (Dropout)            (None, 10)                0         \n",
            "_________________________________________________________________\n",
            "dense_1 (Dense)              (None, 1)                 11        \n",
            "=================================================================\n",
            "Total params: 1,461\n",
            "Trainable params: 1,461\n",
            "Non-trainable params: 0\n",
            "_________________________________________________________________\n"
          ],
          "name": "stdout"
        }
      ]
    },
    {
      "cell_type": "code",
      "metadata": {
        "id": "nVttRizYWADf",
        "colab_type": "code",
        "outputId": "ee331b26-c045-4bd7-91aa-1f52631701b8",
        "colab": {
          "base_uri": "https://localhost:8080/",
          "height": 68
        }
      },
      "source": [
        "loss_test, acc_test = model2.evaluate(x=x_test_sc, y=y_test,verbose=1)\n",
        "print('test accuracy is {:.4f}'.format(acc_test))\n",
        "print('test loss is {:.4f}'.format(loss_test))"
      ],
      "execution_count": 16,
      "outputs": [
        {
          "output_type": "stream",
          "text": [
            "30900/30900 [==============================] - 2s 53us/sample - loss: 0.0122 - acc: 0.9978\n",
            "test accuracy is 0.9978\n",
            "test loss is 0.0122\n"
          ],
          "name": "stdout"
        }
      ]
    },
    {
      "cell_type": "code",
      "metadata": {
        "id": "C_Qok3jgXWmJ",
        "colab_type": "code",
        "outputId": "7f0e463a-4c28-4364-838f-cdf4c6dd0a64",
        "colab": {
          "base_uri": "https://localhost:8080/",
          "height": 51
        }
      },
      "source": [
        "from sklearn.metrics import confusion_matrix, classification_report\n",
        "y_predict = model2.predict_classes(x_test_sc)\n",
        "cm = confusion_matrix(y_test, y_predict)\n",
        "print(cm)"
      ],
      "execution_count": 17,
      "outputs": [
        {
          "output_type": "stream",
          "text": [
            "[[ 5786    19]\n",
            " [   50 25045]]\n"
          ],
          "name": "stdout"
        }
      ]
    },
    {
      "cell_type": "code",
      "metadata": {
        "id": "Xb6-s1IsYNld",
        "colab_type": "code",
        "outputId": "477b7429-f99f-4f26-f1ee-9aa3422c0c8c",
        "colab": {
          "base_uri": "https://localhost:8080/",
          "height": 170
        }
      },
      "source": [
        "print(classification_report(y_true=y_test, y_pred=y_predict, target_names=[\"French\", \"Japanese\"]))"
      ],
      "execution_count": 18,
      "outputs": [
        {
          "output_type": "stream",
          "text": [
            "              precision    recall  f1-score   support\n",
            "\n",
            "      French       0.99      1.00      0.99      5805\n",
            "    Japanese       1.00      1.00      1.00     25095\n",
            "\n",
            "    accuracy                           1.00     30900\n",
            "   macro avg       1.00      1.00      1.00     30900\n",
            "weighted avg       1.00      1.00      1.00     30900\n",
            "\n"
          ],
          "name": "stdout"
        }
      ]
    },
    {
      "cell_type": "code",
      "metadata": {
        "id": "HgM47wesaxSe",
        "colab_type": "code",
        "outputId": "e1277083-a401-4378-995b-244c9350cc6a",
        "colab": {
          "base_uri": "https://localhost:8080/",
          "height": 51
        }
      },
      "source": [
        "train_loss, train_acc = model2.evaluate(x=x_train_sc, y=y_train, verbose=1)\n",
        "test_loss, test_acc = model2.evaluate(x=x_test_sc, y=y_test, verbose=1)"
      ],
      "execution_count": 19,
      "outputs": [
        {
          "output_type": "stream",
          "text": [
            "72096/72096 [==============================] - 3s 47us/sample - loss: 0.0068 - acc: 0.9985\n",
            "30900/30900 [==============================] - 1s 44us/sample - loss: 0.0122 - acc: 0.9978\n"
          ],
          "name": "stdout"
        }
      ]
    }
  ]
}